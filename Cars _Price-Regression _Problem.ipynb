{
 "cells": [
  {
   "cell_type": "code",
   "execution_count": 45,
   "id": "5a5757fb",
   "metadata": {},
   "outputs": [],
   "source": [
    "#Importing the libraries\n",
    "import pandas as pd\n",
    "import numpy as np\n",
    "import matplotlib.pyplot as plt\n",
    "import seaborn as sns\n",
    "import six\n",
    "import sys\n",
    "sys.modules['sklearn.externals.six'] = six\n",
    "import warnings\n",
    "warnings.filterwarnings(action=\"ignore\",category=FutureWarning)"
   ]
  },
  {
   "cell_type": "code",
   "execution_count": 2,
   "id": "d0e40f03",
   "metadata": {},
   "outputs": [],
   "source": [
    "pd.options.display.float_format=\"{:,.2f}\".format"
   ]
  },
  {
   "cell_type": "code",
   "execution_count": 3,
   "id": "4886b73d",
   "metadata": {},
   "outputs": [
    {
     "data": {
      "text/html": [
       "<div>\n",
       "<style scoped>\n",
       "    .dataframe tbody tr th:only-of-type {\n",
       "        vertical-align: middle;\n",
       "    }\n",
       "\n",
       "    .dataframe tbody tr th {\n",
       "        vertical-align: top;\n",
       "    }\n",
       "\n",
       "    .dataframe thead th {\n",
       "        text-align: right;\n",
       "    }\n",
       "</style>\n",
       "<table border=\"1\" class=\"dataframe\">\n",
       "  <thead>\n",
       "    <tr style=\"text-align: right;\">\n",
       "      <th></th>\n",
       "      <th>year</th>\n",
       "      <th>manufacturer</th>\n",
       "      <th>condition</th>\n",
       "      <th>cylinders</th>\n",
       "      <th>fuel</th>\n",
       "      <th>title_status</th>\n",
       "      <th>transmission</th>\n",
       "      <th>drive</th>\n",
       "      <th>size</th>\n",
       "      <th>type</th>\n",
       "      <th>paint_color</th>\n",
       "      <th>price</th>\n",
       "    </tr>\n",
       "  </thead>\n",
       "  <tbody>\n",
       "    <tr>\n",
       "      <th>0</th>\n",
       "      <td>2009</td>\n",
       "      <td>chevrolet</td>\n",
       "      <td>good</td>\n",
       "      <td>8 cylinders</td>\n",
       "      <td>gas</td>\n",
       "      <td>clean</td>\n",
       "      <td>automatic</td>\n",
       "      <td>rwd</td>\n",
       "      <td>full-size</td>\n",
       "      <td>SUV</td>\n",
       "      <td>white</td>\n",
       "      <td>9000</td>\n",
       "    </tr>\n",
       "    <tr>\n",
       "      <th>1</th>\n",
       "      <td>2002</td>\n",
       "      <td>gmc</td>\n",
       "      <td>good</td>\n",
       "      <td>8 cylinders</td>\n",
       "      <td>gas</td>\n",
       "      <td>clean</td>\n",
       "      <td>automatic</td>\n",
       "      <td>4wd</td>\n",
       "      <td>NaN</td>\n",
       "      <td>pickup</td>\n",
       "      <td>white</td>\n",
       "      <td>6000</td>\n",
       "    </tr>\n",
       "    <tr>\n",
       "      <th>2</th>\n",
       "      <td>2007</td>\n",
       "      <td>pontiac</td>\n",
       "      <td>excellent</td>\n",
       "      <td>4 cylinders</td>\n",
       "      <td>gas</td>\n",
       "      <td>clean</td>\n",
       "      <td>automatic</td>\n",
       "      <td>fwd</td>\n",
       "      <td>compact</td>\n",
       "      <td>convertible</td>\n",
       "      <td>red</td>\n",
       "      <td>7000</td>\n",
       "    </tr>\n",
       "    <tr>\n",
       "      <th>3</th>\n",
       "      <td>2012</td>\n",
       "      <td>chevrolet</td>\n",
       "      <td>excellent</td>\n",
       "      <td>8 cylinders</td>\n",
       "      <td>diesel</td>\n",
       "      <td>clean</td>\n",
       "      <td>automatic</td>\n",
       "      <td>4wd</td>\n",
       "      <td>full-size</td>\n",
       "      <td>pickup</td>\n",
       "      <td>silver</td>\n",
       "      <td>37000</td>\n",
       "    </tr>\n",
       "    <tr>\n",
       "      <th>4</th>\n",
       "      <td>2003</td>\n",
       "      <td>NaN</td>\n",
       "      <td>fair</td>\n",
       "      <td>8 cylinders</td>\n",
       "      <td>gas</td>\n",
       "      <td>clean</td>\n",
       "      <td>automatic</td>\n",
       "      <td>4wd</td>\n",
       "      <td>NaN</td>\n",
       "      <td>pickup</td>\n",
       "      <td>silver</td>\n",
       "      <td>3700</td>\n",
       "    </tr>\n",
       "  </tbody>\n",
       "</table>\n",
       "</div>"
      ],
      "text/plain": [
       "   year manufacturer  condition    cylinders    fuel title_status  \\\n",
       "0  2009    chevrolet       good  8 cylinders     gas        clean   \n",
       "1  2002          gmc       good  8 cylinders     gas        clean   \n",
       "2  2007      pontiac  excellent  4 cylinders     gas        clean   \n",
       "3  2012    chevrolet  excellent  8 cylinders  diesel        clean   \n",
       "4  2003          NaN       fair  8 cylinders     gas        clean   \n",
       "\n",
       "  transmission drive       size         type paint_color  price  \n",
       "0    automatic   rwd  full-size          SUV       white   9000  \n",
       "1    automatic   4wd        NaN       pickup       white   6000  \n",
       "2    automatic   fwd    compact  convertible         red   7000  \n",
       "3    automatic   4wd  full-size       pickup      silver  37000  \n",
       "4    automatic   4wd        NaN       pickup      silver   3700  "
      ]
     },
     "execution_count": 3,
     "metadata": {},
     "output_type": "execute_result"
    }
   ],
   "source": [
    "df=pd.read_csv(\"cars.csv\")\n",
    "df.head()"
   ]
  },
  {
   "cell_type": "code",
   "execution_count": 4,
   "id": "b0834844",
   "metadata": {},
   "outputs": [
    {
     "data": {
      "text/plain": [
       "(434542, 12)"
      ]
     },
     "execution_count": 4,
     "metadata": {},
     "output_type": "execute_result"
    }
   ],
   "source": [
    "df.shape"
   ]
  },
  {
   "cell_type": "code",
   "execution_count": 5,
   "id": "6050b031",
   "metadata": {},
   "outputs": [
    {
     "name": "stdout",
     "output_type": "stream",
     "text": [
      "<class 'pandas.core.frame.DataFrame'>\n",
      "RangeIndex: 434542 entries, 0 to 434541\n",
      "Data columns (total 12 columns):\n",
      " #   Column        Non-Null Count   Dtype \n",
      "---  ------        --------------   ----- \n",
      " 0   year          434542 non-null  int64 \n",
      " 1   manufacturer  418698 non-null  object\n",
      " 2   condition     274367 non-null  object\n",
      " 3   cylinders     311539 non-null  object\n",
      " 4   fuel          430894 non-null  object\n",
      " 5   title_status  431661 non-null  object\n",
      " 6   transmission  430244 non-null  object\n",
      " 7   drive         376834 non-null  object\n",
      " 8   size          181927 non-null  object\n",
      " 9   type          384280 non-null  object\n",
      " 10  paint_color   348787 non-null  object\n",
      " 11  price         434542 non-null  int64 \n",
      "dtypes: int64(2), object(10)\n",
      "memory usage: 39.8+ MB\n"
     ]
    }
   ],
   "source": [
    "df.info()"
   ]
  },
  {
   "cell_type": "code",
   "execution_count": 6,
   "id": "bf8a5cea",
   "metadata": {},
   "outputs": [
    {
     "data": {
      "text/html": [
       "<div>\n",
       "<style scoped>\n",
       "    .dataframe tbody tr th:only-of-type {\n",
       "        vertical-align: middle;\n",
       "    }\n",
       "\n",
       "    .dataframe tbody tr th {\n",
       "        vertical-align: top;\n",
       "    }\n",
       "\n",
       "    .dataframe thead th {\n",
       "        text-align: right;\n",
       "    }\n",
       "</style>\n",
       "<table border=\"1\" class=\"dataframe\">\n",
       "  <thead>\n",
       "    <tr style=\"text-align: right;\">\n",
       "      <th></th>\n",
       "      <th>count</th>\n",
       "      <th>mean</th>\n",
       "      <th>std</th>\n",
       "      <th>min</th>\n",
       "      <th>25%</th>\n",
       "      <th>50%</th>\n",
       "      <th>75%</th>\n",
       "      <th>max</th>\n",
       "    </tr>\n",
       "  </thead>\n",
       "  <tbody>\n",
       "    <tr>\n",
       "      <th>year</th>\n",
       "      <td>434,542.00</td>\n",
       "      <td>2,008.99</td>\n",
       "      <td>9.12</td>\n",
       "      <td>1,900.00</td>\n",
       "      <td>2,006.00</td>\n",
       "      <td>2,011.00</td>\n",
       "      <td>2,015.00</td>\n",
       "      <td>2,020.00</td>\n",
       "    </tr>\n",
       "    <tr>\n",
       "      <th>price</th>\n",
       "      <td>434,542.00</td>\n",
       "      <td>12,082.36</td>\n",
       "      <td>10,346.56</td>\n",
       "      <td>0.00</td>\n",
       "      <td>3,999.00</td>\n",
       "      <td>9,495.00</td>\n",
       "      <td>17,881.00</td>\n",
       "      <td>50,934.00</td>\n",
       "    </tr>\n",
       "  </tbody>\n",
       "</table>\n",
       "</div>"
      ],
      "text/plain": [
       "           count      mean       std      min      25%      50%       75%  \\\n",
       "year  434,542.00  2,008.99      9.12 1,900.00 2,006.00 2,011.00  2,015.00   \n",
       "price 434,542.00 12,082.36 10,346.56     0.00 3,999.00 9,495.00 17,881.00   \n",
       "\n",
       "            max  \n",
       "year   2,020.00  \n",
       "price 50,934.00  "
      ]
     },
     "execution_count": 6,
     "metadata": {},
     "output_type": "execute_result"
    }
   ],
   "source": [
    "df.describe().T"
   ]
  },
  {
   "cell_type": "code",
   "execution_count": 7,
   "id": "5773d068",
   "metadata": {},
   "outputs": [
    {
     "data": {
      "text/plain": [
       "year            0.00\n",
       "manufacturer    3.65\n",
       "condition      36.86\n",
       "cylinders      28.31\n",
       "fuel            0.84\n",
       "title_status    0.66\n",
       "transmission    0.99\n",
       "drive          13.28\n",
       "size           58.13\n",
       "type           11.57\n",
       "paint_color    19.73\n",
       "price           0.00\n",
       "dtype: float64"
      ]
     },
     "execution_count": 7,
     "metadata": {},
     "output_type": "execute_result"
    }
   ],
   "source": [
    "#Finding the null values\n",
    "(df.isnull().sum()/df.shape[0])*100"
   ]
  },
  {
   "cell_type": "code",
   "execution_count": 8,
   "id": "cbf30c4d",
   "metadata": {},
   "outputs": [],
   "source": [
    "#Dropping all the rows with the word \"Other\" in order to try to not confuse the neural network\n",
    "index_names=df[(df[\"manufacturer\"]==\"other\") | (df[\"condition\"]==\"other\") | (df[\"cylinders\"]==\"other\") |(df[\"fuel\"]==\"other\") | (df[\"title_status\"]==\"other\") | (df[\"transmission\"]==\"other\") | (df[\"drive\"]==\"other\") | (df[\"size\"]==\"other\") | (df[\"type\"]==\"other\") | (df[\"paint_color\"]==\"other\")].index\n",
    "\n",
    "df.drop(index_names, inplace=True)"
   ]
  },
  {
   "cell_type": "code",
   "execution_count": 9,
   "id": "82c1113e",
   "metadata": {},
   "outputs": [
    {
     "data": {
      "text/plain": [
       "(398868, 12)"
      ]
     },
     "execution_count": 9,
     "metadata": {},
     "output_type": "execute_result"
    }
   ],
   "source": [
    "#New shape\n",
    "df.shape"
   ]
  },
  {
   "cell_type": "code",
   "execution_count": 10,
   "id": "bc9c745e",
   "metadata": {},
   "outputs": [
    {
     "name": "stdout",
     "output_type": "stream",
     "text": [
      "The feature manufacturer contains 43  distinct values \n",
      "The feature condition contains 7  distinct values \n",
      "The feature cylinders contains 8  distinct values \n",
      "The feature fuel contains 5  distinct values \n",
      "The feature title_status contains 7  distinct values \n",
      "The feature transmission contains 3  distinct values \n",
      "The feature drive contains 4  distinct values \n",
      "The feature size contains 5  distinct values \n",
      "The feature type contains 13  distinct values \n",
      "The feature paint_color contains 13  distinct values \n"
     ]
    }
   ],
   "source": [
    "#Finding the categorical features and the amount of different values the have\n",
    "\n",
    "categorical=df.select_dtypes(include=\"object\").columns\n",
    "\n",
    "for line in categorical:\n",
    "    print(\"The feature \" + line + \" contains\" ,  str(len(df[line].unique())) ,\" distinct values \")\n",
    "    "
   ]
  },
  {
   "cell_type": "code",
   "execution_count": 11,
   "id": "1df0b637",
   "metadata": {},
   "outputs": [
    {
     "data": {
      "text/plain": [
       "manufacturer    3.54\n",
       "condition      35.78\n",
       "cylinders      25.69\n",
       "fuel            0.86\n",
       "title_status    0.68\n",
       "transmission    0.87\n",
       "drive          11.98\n",
       "size           55.61\n",
       "type           12.20\n",
       "paint_color    19.72\n",
       "dtype: float64"
      ]
     },
     "execution_count": 11,
     "metadata": {},
     "output_type": "execute_result"
    }
   ],
   "source": [
    "#Finding the null values in the categorical features\n",
    "\n",
    "(df[categorical].isnull().sum()/df[categorical].shape[0])*100\n"
   ]
  },
  {
   "cell_type": "code",
   "execution_count": 12,
   "id": "d369ce68",
   "metadata": {},
   "outputs": [],
   "source": [
    "#Filling the null values with the mode of each feature\n",
    "for line in categorical:\n",
    "    df[line]=df[line].fillna(df[categorical].mode()[line][0])  "
   ]
  },
  {
   "cell_type": "code",
   "execution_count": 13,
   "id": "74ac2a1c",
   "metadata": {},
   "outputs": [
    {
     "data": {
      "text/plain": [
       "manufacturer   0.00\n",
       "condition      0.00\n",
       "cylinders      0.00\n",
       "fuel           0.00\n",
       "title_status   0.00\n",
       "transmission   0.00\n",
       "drive          0.00\n",
       "size           0.00\n",
       "type           0.00\n",
       "paint_color    0.00\n",
       "dtype: float64"
      ]
     },
     "execution_count": 13,
     "metadata": {},
     "output_type": "execute_result"
    }
   ],
   "source": [
    "#Checking if there is still null values\n",
    "\n",
    "(df[categorical].isnull().sum()/df[categorical].shape[0])*100"
   ]
  },
  {
   "cell_type": "code",
   "execution_count": 14,
   "id": "104a84f8",
   "metadata": {},
   "outputs": [],
   "source": [
    "#Creating new features with the help of get_dummies\n",
    "new_features=pd.get_dummies(df[categorical])"
   ]
  },
  {
   "cell_type": "code",
   "execution_count": 15,
   "id": "00ad3965",
   "metadata": {},
   "outputs": [],
   "source": [
    "#Concating the new features with the first dataframe\n",
    "df=pd.concat([df,new_features],axis=1)"
   ]
  },
  {
   "cell_type": "code",
   "execution_count": 16,
   "id": "0bc69b16",
   "metadata": {},
   "outputs": [
    {
     "data": {
      "text/html": [
       "<div>\n",
       "<style scoped>\n",
       "    .dataframe tbody tr th:only-of-type {\n",
       "        vertical-align: middle;\n",
       "    }\n",
       "\n",
       "    .dataframe tbody tr th {\n",
       "        vertical-align: top;\n",
       "    }\n",
       "\n",
       "    .dataframe thead th {\n",
       "        text-align: right;\n",
       "    }\n",
       "</style>\n",
       "<table border=\"1\" class=\"dataframe\">\n",
       "  <thead>\n",
       "    <tr style=\"text-align: right;\">\n",
       "      <th></th>\n",
       "      <th>year</th>\n",
       "      <th>price</th>\n",
       "      <th>manufacturer_acura</th>\n",
       "      <th>manufacturer_alfa-romeo</th>\n",
       "      <th>manufacturer_aston-martin</th>\n",
       "      <th>manufacturer_audi</th>\n",
       "      <th>manufacturer_bmw</th>\n",
       "      <th>manufacturer_buick</th>\n",
       "      <th>manufacturer_cadillac</th>\n",
       "      <th>manufacturer_chevrolet</th>\n",
       "      <th>...</th>\n",
       "      <th>paint_color_brown</th>\n",
       "      <th>paint_color_custom</th>\n",
       "      <th>paint_color_green</th>\n",
       "      <th>paint_color_grey</th>\n",
       "      <th>paint_color_orange</th>\n",
       "      <th>paint_color_purple</th>\n",
       "      <th>paint_color_red</th>\n",
       "      <th>paint_color_silver</th>\n",
       "      <th>paint_color_white</th>\n",
       "      <th>paint_color_yellow</th>\n",
       "    </tr>\n",
       "  </thead>\n",
       "  <tbody>\n",
       "    <tr>\n",
       "      <th>0</th>\n",
       "      <td>2009</td>\n",
       "      <td>9000</td>\n",
       "      <td>0</td>\n",
       "      <td>0</td>\n",
       "      <td>0</td>\n",
       "      <td>0</td>\n",
       "      <td>0</td>\n",
       "      <td>0</td>\n",
       "      <td>0</td>\n",
       "      <td>1</td>\n",
       "      <td>...</td>\n",
       "      <td>0</td>\n",
       "      <td>0</td>\n",
       "      <td>0</td>\n",
       "      <td>0</td>\n",
       "      <td>0</td>\n",
       "      <td>0</td>\n",
       "      <td>0</td>\n",
       "      <td>0</td>\n",
       "      <td>1</td>\n",
       "      <td>0</td>\n",
       "    </tr>\n",
       "    <tr>\n",
       "      <th>1</th>\n",
       "      <td>2002</td>\n",
       "      <td>6000</td>\n",
       "      <td>0</td>\n",
       "      <td>0</td>\n",
       "      <td>0</td>\n",
       "      <td>0</td>\n",
       "      <td>0</td>\n",
       "      <td>0</td>\n",
       "      <td>0</td>\n",
       "      <td>0</td>\n",
       "      <td>...</td>\n",
       "      <td>0</td>\n",
       "      <td>0</td>\n",
       "      <td>0</td>\n",
       "      <td>0</td>\n",
       "      <td>0</td>\n",
       "      <td>0</td>\n",
       "      <td>0</td>\n",
       "      <td>0</td>\n",
       "      <td>1</td>\n",
       "      <td>0</td>\n",
       "    </tr>\n",
       "    <tr>\n",
       "      <th>2</th>\n",
       "      <td>2007</td>\n",
       "      <td>7000</td>\n",
       "      <td>0</td>\n",
       "      <td>0</td>\n",
       "      <td>0</td>\n",
       "      <td>0</td>\n",
       "      <td>0</td>\n",
       "      <td>0</td>\n",
       "      <td>0</td>\n",
       "      <td>0</td>\n",
       "      <td>...</td>\n",
       "      <td>0</td>\n",
       "      <td>0</td>\n",
       "      <td>0</td>\n",
       "      <td>0</td>\n",
       "      <td>0</td>\n",
       "      <td>0</td>\n",
       "      <td>1</td>\n",
       "      <td>0</td>\n",
       "      <td>0</td>\n",
       "      <td>0</td>\n",
       "    </tr>\n",
       "    <tr>\n",
       "      <th>3</th>\n",
       "      <td>2012</td>\n",
       "      <td>37000</td>\n",
       "      <td>0</td>\n",
       "      <td>0</td>\n",
       "      <td>0</td>\n",
       "      <td>0</td>\n",
       "      <td>0</td>\n",
       "      <td>0</td>\n",
       "      <td>0</td>\n",
       "      <td>1</td>\n",
       "      <td>...</td>\n",
       "      <td>0</td>\n",
       "      <td>0</td>\n",
       "      <td>0</td>\n",
       "      <td>0</td>\n",
       "      <td>0</td>\n",
       "      <td>0</td>\n",
       "      <td>0</td>\n",
       "      <td>1</td>\n",
       "      <td>0</td>\n",
       "      <td>0</td>\n",
       "    </tr>\n",
       "    <tr>\n",
       "      <th>4</th>\n",
       "      <td>2003</td>\n",
       "      <td>3700</td>\n",
       "      <td>0</td>\n",
       "      <td>0</td>\n",
       "      <td>0</td>\n",
       "      <td>0</td>\n",
       "      <td>0</td>\n",
       "      <td>0</td>\n",
       "      <td>0</td>\n",
       "      <td>0</td>\n",
       "      <td>...</td>\n",
       "      <td>0</td>\n",
       "      <td>0</td>\n",
       "      <td>0</td>\n",
       "      <td>0</td>\n",
       "      <td>0</td>\n",
       "      <td>0</td>\n",
       "      <td>0</td>\n",
       "      <td>1</td>\n",
       "      <td>0</td>\n",
       "      <td>0</td>\n",
       "    </tr>\n",
       "  </tbody>\n",
       "</table>\n",
       "<p>5 rows × 100 columns</p>\n",
       "</div>"
      ],
      "text/plain": [
       "   year  price  manufacturer_acura  manufacturer_alfa-romeo  \\\n",
       "0  2009   9000                   0                        0   \n",
       "1  2002   6000                   0                        0   \n",
       "2  2007   7000                   0                        0   \n",
       "3  2012  37000                   0                        0   \n",
       "4  2003   3700                   0                        0   \n",
       "\n",
       "   manufacturer_aston-martin  manufacturer_audi  manufacturer_bmw  \\\n",
       "0                          0                  0                 0   \n",
       "1                          0                  0                 0   \n",
       "2                          0                  0                 0   \n",
       "3                          0                  0                 0   \n",
       "4                          0                  0                 0   \n",
       "\n",
       "   manufacturer_buick  manufacturer_cadillac  manufacturer_chevrolet  ...  \\\n",
       "0                   0                      0                       1  ...   \n",
       "1                   0                      0                       0  ...   \n",
       "2                   0                      0                       0  ...   \n",
       "3                   0                      0                       1  ...   \n",
       "4                   0                      0                       0  ...   \n",
       "\n",
       "   paint_color_brown  paint_color_custom  paint_color_green  paint_color_grey  \\\n",
       "0                  0                   0                  0                 0   \n",
       "1                  0                   0                  0                 0   \n",
       "2                  0                   0                  0                 0   \n",
       "3                  0                   0                  0                 0   \n",
       "4                  0                   0                  0                 0   \n",
       "\n",
       "   paint_color_orange  paint_color_purple  paint_color_red  \\\n",
       "0                   0                   0                0   \n",
       "1                   0                   0                0   \n",
       "2                   0                   0                1   \n",
       "3                   0                   0                0   \n",
       "4                   0                   0                0   \n",
       "\n",
       "   paint_color_silver  paint_color_white  paint_color_yellow  \n",
       "0                   0                  1                   0  \n",
       "1                   0                  1                   0  \n",
       "2                   0                  0                   0  \n",
       "3                   1                  0                   0  \n",
       "4                   1                  0                   0  \n",
       "\n",
       "[5 rows x 100 columns]"
      ]
     },
     "execution_count": 16,
     "metadata": {},
     "output_type": "execute_result"
    }
   ],
   "source": [
    "#Dropping the categorical columns due to they were transformed in new columns\n",
    "df=df.drop(columns=categorical)\n",
    "df.head()"
   ]
  },
  {
   "cell_type": "code",
   "execution_count": 17,
   "id": "f3ae11f4",
   "metadata": {},
   "outputs": [
    {
     "data": {
      "image/png": "[encoded data removed]",
      "text/plain": [
       "<Figure size 400x300 with 1 Axes>"
      ]
     },
     "metadata": {},
     "output_type": "display_data"
    }
   ],
   "source": [
    "plt.figure(figsize=(4,3));\n",
    "sns.boxplot(data=df,y=\"price\");"
   ]
  },
  {
   "cell_type": "code",
   "execution_count": 18,
   "id": "5c3e619e",
   "metadata": {},
   "outputs": [
    {
     "data": {
      "image/png": "[encoded data removed]",
      "text/plain": [
       "<Figure size 640x480 with 1 Axes>"
      ]
     },
     "metadata": {},
     "output_type": "display_data"
    }
   ],
   "source": [
    "#Analyzing the existing of outliers\n",
    "\n",
    "sns.scatterplot(data=df,x=\"year\",y=\"price\",color=\"green\");\n",
    "plt.axvline(1945);\n",
    "plt.axhline(5000,color=\"red\");\n",
    "plt.axhline(40000,color=\"red\");\n",
    "plt.title(\"Year vs Price\");"
   ]
  },
  {
   "cell_type": "code",
   "execution_count": 19,
   "id": "2e71c26b",
   "metadata": {},
   "outputs": [
    {
     "data": {
      "text/html": [
       "<div>\n",
       "<style scoped>\n",
       "    .dataframe tbody tr th:only-of-type {\n",
       "        vertical-align: middle;\n",
       "    }\n",
       "\n",
       "    .dataframe tbody tr th {\n",
       "        vertical-align: top;\n",
       "    }\n",
       "\n",
       "    .dataframe thead th {\n",
       "        text-align: right;\n",
       "    }\n",
       "</style>\n",
       "<table border=\"1\" class=\"dataframe\">\n",
       "  <thead>\n",
       "    <tr style=\"text-align: right;\">\n",
       "      <th></th>\n",
       "      <th>year</th>\n",
       "      <th>price</th>\n",
       "      <th>manufacturer_acura</th>\n",
       "      <th>manufacturer_alfa-romeo</th>\n",
       "      <th>manufacturer_aston-martin</th>\n",
       "      <th>manufacturer_audi</th>\n",
       "      <th>manufacturer_bmw</th>\n",
       "      <th>manufacturer_buick</th>\n",
       "      <th>manufacturer_cadillac</th>\n",
       "      <th>manufacturer_chevrolet</th>\n",
       "      <th>...</th>\n",
       "      <th>paint_color_brown</th>\n",
       "      <th>paint_color_custom</th>\n",
       "      <th>paint_color_green</th>\n",
       "      <th>paint_color_grey</th>\n",
       "      <th>paint_color_orange</th>\n",
       "      <th>paint_color_purple</th>\n",
       "      <th>paint_color_red</th>\n",
       "      <th>paint_color_silver</th>\n",
       "      <th>paint_color_white</th>\n",
       "      <th>paint_color_yellow</th>\n",
       "    </tr>\n",
       "  </thead>\n",
       "  <tbody>\n",
       "    <tr>\n",
       "      <th>0</th>\n",
       "      <td>2009</td>\n",
       "      <td>9000</td>\n",
       "      <td>0</td>\n",
       "      <td>0</td>\n",
       "      <td>0</td>\n",
       "      <td>0</td>\n",
       "      <td>0</td>\n",
       "      <td>0</td>\n",
       "      <td>0</td>\n",
       "      <td>1</td>\n",
       "      <td>...</td>\n",
       "      <td>0</td>\n",
       "      <td>0</td>\n",
       "      <td>0</td>\n",
       "      <td>0</td>\n",
       "      <td>0</td>\n",
       "      <td>0</td>\n",
       "      <td>0</td>\n",
       "      <td>0</td>\n",
       "      <td>1</td>\n",
       "      <td>0</td>\n",
       "    </tr>\n",
       "    <tr>\n",
       "      <th>1</th>\n",
       "      <td>2002</td>\n",
       "      <td>6000</td>\n",
       "      <td>0</td>\n",
       "      <td>0</td>\n",
       "      <td>0</td>\n",
       "      <td>0</td>\n",
       "      <td>0</td>\n",
       "      <td>0</td>\n",
       "      <td>0</td>\n",
       "      <td>0</td>\n",
       "      <td>...</td>\n",
       "      <td>0</td>\n",
       "      <td>0</td>\n",
       "      <td>0</td>\n",
       "      <td>0</td>\n",
       "      <td>0</td>\n",
       "      <td>0</td>\n",
       "      <td>0</td>\n",
       "      <td>0</td>\n",
       "      <td>1</td>\n",
       "      <td>0</td>\n",
       "    </tr>\n",
       "    <tr>\n",
       "      <th>2</th>\n",
       "      <td>2007</td>\n",
       "      <td>7000</td>\n",
       "      <td>0</td>\n",
       "      <td>0</td>\n",
       "      <td>0</td>\n",
       "      <td>0</td>\n",
       "      <td>0</td>\n",
       "      <td>0</td>\n",
       "      <td>0</td>\n",
       "      <td>0</td>\n",
       "      <td>...</td>\n",
       "      <td>0</td>\n",
       "      <td>0</td>\n",
       "      <td>0</td>\n",
       "      <td>0</td>\n",
       "      <td>0</td>\n",
       "      <td>0</td>\n",
       "      <td>1</td>\n",
       "      <td>0</td>\n",
       "      <td>0</td>\n",
       "      <td>0</td>\n",
       "    </tr>\n",
       "    <tr>\n",
       "      <th>3</th>\n",
       "      <td>2012</td>\n",
       "      <td>37000</td>\n",
       "      <td>0</td>\n",
       "      <td>0</td>\n",
       "      <td>0</td>\n",
       "      <td>0</td>\n",
       "      <td>0</td>\n",
       "      <td>0</td>\n",
       "      <td>0</td>\n",
       "      <td>1</td>\n",
       "      <td>...</td>\n",
       "      <td>0</td>\n",
       "      <td>0</td>\n",
       "      <td>0</td>\n",
       "      <td>0</td>\n",
       "      <td>0</td>\n",
       "      <td>0</td>\n",
       "      <td>0</td>\n",
       "      <td>1</td>\n",
       "      <td>0</td>\n",
       "      <td>0</td>\n",
       "    </tr>\n",
       "    <tr>\n",
       "      <th>5</th>\n",
       "      <td>2013</td>\n",
       "      <td>19950</td>\n",
       "      <td>0</td>\n",
       "      <td>0</td>\n",
       "      <td>0</td>\n",
       "      <td>0</td>\n",
       "      <td>0</td>\n",
       "      <td>0</td>\n",
       "      <td>0</td>\n",
       "      <td>0</td>\n",
       "      <td>...</td>\n",
       "      <td>0</td>\n",
       "      <td>0</td>\n",
       "      <td>0</td>\n",
       "      <td>0</td>\n",
       "      <td>0</td>\n",
       "      <td>0</td>\n",
       "      <td>0</td>\n",
       "      <td>0</td>\n",
       "      <td>1</td>\n",
       "      <td>0</td>\n",
       "    </tr>\n",
       "  </tbody>\n",
       "</table>\n",
       "<p>5 rows × 100 columns</p>\n",
       "</div>"
      ],
      "text/plain": [
       "   year  price  manufacturer_acura  manufacturer_alfa-romeo  \\\n",
       "0  2009   9000                   0                        0   \n",
       "1  2002   6000                   0                        0   \n",
       "2  2007   7000                   0                        0   \n",
       "3  2012  37000                   0                        0   \n",
       "5  2013  19950                   0                        0   \n",
       "\n",
       "   manufacturer_aston-martin  manufacturer_audi  manufacturer_bmw  \\\n",
       "0                          0                  0                 0   \n",
       "1                          0                  0                 0   \n",
       "2                          0                  0                 0   \n",
       "3                          0                  0                 0   \n",
       "5                          0                  0                 0   \n",
       "\n",
       "   manufacturer_buick  manufacturer_cadillac  manufacturer_chevrolet  ...  \\\n",
       "0                   0                      0                       1  ...   \n",
       "1                   0                      0                       0  ...   \n",
       "2                   0                      0                       0  ...   \n",
       "3                   0                      0                       1  ...   \n",
       "5                   0                      0                       0  ...   \n",
       "\n",
       "   paint_color_brown  paint_color_custom  paint_color_green  paint_color_grey  \\\n",
       "0                  0                   0                  0                 0   \n",
       "1                  0                   0                  0                 0   \n",
       "2                  0                   0                  0                 0   \n",
       "3                  0                   0                  0                 0   \n",
       "5                  0                   0                  0                 0   \n",
       "\n",
       "   paint_color_orange  paint_color_purple  paint_color_red  \\\n",
       "0                   0                   0                0   \n",
       "1                   0                   0                0   \n",
       "2                   0                   0                1   \n",
       "3                   0                   0                0   \n",
       "5                   0                   0                0   \n",
       "\n",
       "   paint_color_silver  paint_color_white  paint_color_yellow  \n",
       "0                   0                  1                   0  \n",
       "1                   0                  1                   0  \n",
       "2                   0                  0                   0  \n",
       "3                   1                  0                   0  \n",
       "5                   0                  1                   0  \n",
       "\n",
       "[5 rows x 100 columns]"
      ]
     },
     "execution_count": 19,
     "metadata": {},
     "output_type": "execute_result"
    }
   ],
   "source": [
    "#The dataframe will work with prices between 5000 and 40000 and a year greater than 1945\n",
    "df=df[(df[\"price\"].between(5000,40000,inclusive=\"both\")) & (df[\"year\"]> 1945)]\n",
    "df.head()"
   ]
  },
  {
   "cell_type": "code",
   "execution_count": 20,
   "id": "4823b332",
   "metadata": {},
   "outputs": [
    {
     "data": {
      "text/plain": [
       "(269204, 100)"
      ]
     },
     "execution_count": 20,
     "metadata": {},
     "output_type": "execute_result"
    }
   ],
   "source": [
    "df.shape"
   ]
  },
  {
   "cell_type": "code",
   "execution_count": 21,
   "id": "acf98184",
   "metadata": {},
   "outputs": [],
   "source": [
    "#Defining X and y\n",
    "X=df.drop(columns=[\"price\"])\n",
    "y=df[[\"price\"]]"
   ]
  },
  {
   "cell_type": "code",
   "execution_count": 22,
   "id": "021c67dd",
   "metadata": {},
   "outputs": [],
   "source": [
    "#Splitting the data in train and test\n",
    "from sklearn.model_selection import train_test_split\n",
    "X_train,X_test,y_train,y_test=train_test_split(X,y,test_size=0.3, random_state=42)"
   ]
  },
  {
   "cell_type": "code",
   "execution_count": 23,
   "id": "f0dc742e",
   "metadata": {},
   "outputs": [],
   "source": [
    "#Standardization the data\n",
    "\n",
    "from sklearn.preprocessing import StandardScaler\n",
    "\n",
    "scaler_x=StandardScaler()\n",
    "scaler_y=StandardScaler()\n",
    "\n",
    "scaler_x.fit(X_train)\n",
    "scaler_y.fit(y_train)\n",
    "\n",
    "X_train=pd.DataFrame(scaler_x.transform(X_train),columns=X_train.columns)\n",
    "y_train=pd.DataFrame(scaler_y.transform(y_train),columns=y_train.columns)\n"
   ]
  },
  {
   "cell_type": "code",
   "execution_count": 24,
   "id": "0d69674d",
   "metadata": {},
   "outputs": [],
   "source": [
    "#EVALUATING DIFFERENT MACHINE LEARNING MODELS"
   ]
  },
  {
   "cell_type": "code",
   "execution_count": 39,
   "id": "c08e066d",
   "metadata": {},
   "outputs": [],
   "source": [
    "#Importing the libraries\n",
    "from sklearn.model_selection import train_test_split,KFold,cross_val_score,GridSearchCV\n",
    "from sklearn.linear_model import LinearRegression,Lasso,Ridge,ElasticNet\n",
    "from sklearn.neighbors import KNeighborsRegressor\n",
    "from sklearn.tree import DecisionTreeRegressor\n",
    "\n",
    "#Ensemble\n",
    "from xgboost import XGBRegressor\n",
    "from catboost import CatBoostRegressor\n",
    "from lightgbm import LGBMRegressor\n",
    "from sklearn.ensemble import BaggingRegressor,RandomForestRegressor,ExtraTreesRegressor,AdaBoostRegressor,GradientBoostingRegressor\n",
    "from sklearn.ensemble import StackingRegressor,VotingRegressor\n",
    "from mlxtend import regressor\n",
    "\n",
    "#Estimators for voting\n",
    "estimators_voting=[(\"Ridge\",Ridge()),(\"knn\",KNeighborsRegressor()),(\"Rfr\",RandomForestRegressor(n_estimators=10, random_state=1))]\n",
    "\n",
    "#Estimators for stacking\n",
    "# Prepare the list of tuples with the first-layer classifiers\n",
    "regresors = [('Ridge',Ridge()),('knn',KNeighborsRegressor())]\n",
    "# Instantiate the second-layer meta estimator\n",
    "reg_meta = RandomForestRegressor()\n",
    "\n",
    "\n",
    "#Estimators for MLxtend\n",
    "# Instantiate the 1st-layer regressors\n",
    "reg_dt = DecisionTreeRegressor(min_samples_leaf = 11 , min_samples_split = 33, random_state=500)\n",
    "reg_lr = LinearRegression()\n",
    "reg_ridge = Ridge(random_state = 500)\n",
    "# Instantiate the 2nd-layer regressor\n",
    "reg_meta_mlx = RandomForestRegressor()"
   ]
  },
  {
   "cell_type": "code",
   "execution_count": 26,
   "id": "07ed8ec0",
   "metadata": {},
   "outputs": [
    {
     "name": "stdout",
     "output_type": "stream",
     "text": [
      "Lasso :1.0000 (0.0113)\n",
      "Ridge :0.6661 (0.0122)\n",
      "Elastic Net :1.0000 (0.0083)\n",
      "KNN :0.3595 (0.0048)\n",
      "Decision Tree :0.2902 (0.0041)\n",
      "XGB Regressor :0.3325 (0.0042)\n",
      "CatBoost Regressor :0.3487 (0.0059)\n",
      "LGBM Regressor :0.3322 (0.0045)\n",
      "Bagging Regressor :0.2411 (0.0050)\n",
      "Random Forest Regressor :0.2332 (0.0049)\n",
      "Extra Trees Regressor :0.2450 (0.0028)\n",
      "AdaBoostRegressor :0.6393 (0.0378)\n",
      "GradientBoostingRegressor :0.3324 (0.0015)\n",
      "Voting Regressor :0.2979 (0.0039)\n",
      "Stacking Regressor :0.3819 (0.0048)\n",
      "MLXTend Regressor :0.2515 (0.0040)\n"
     ]
    }
   ],
   "source": [
    "#Preparing the models\n",
    "models={\n",
    "    \"Lasso\":Lasso(),\n",
    "    \"Ridge\":Ridge(),\n",
    "    \"Elastic Net\":ElasticNet(),\n",
    "    \"KNN\":KNeighborsRegressor(),\n",
    "    \"Decision Tree\":DecisionTreeRegressor(),\n",
    "    \"XGB Regressor\":XGBRegressor(max_depth = 3, learning_rate = 0.1, n_estimators = 100, n_jobs=2, objective='reg:squarederror', random_state=500),\n",
    "    \"CatBoost Regressor\":CatBoostRegressor(n_estimators =100,learning_rate=0.1, max_depth=3, random_state=500,verbose=0),\n",
    "    \"LGBM Regressor\":LGBMRegressor(max_depth = 3, learning_rate = 0.1, n_estimators = 100, objective='mean_squared_error', seed=500,force_row_wise=True,verbose=-1),\n",
    "    \"Bagging Regressor\":BaggingRegressor(),\n",
    "    \"Random Forest Regressor\": RandomForestRegressor(),\n",
    "    \"Extra Trees Regressor\":ExtraTreesRegressor(),\n",
    "    \"AdaBoostRegressor\":AdaBoostRegressor(),\n",
    "    \"GradientBoostingRegressor\":GradientBoostingRegressor(),\n",
    "    \"Voting Regressor\":VotingRegressor(estimators_voting),\n",
    "    \"Stacking Regressor\":StackingRegressor(regresors,reg_meta),\n",
    "    \"MLXTend Regressor\":regressor.StackingRegressor([reg_dt,reg_lr,reg_ridge],reg_meta_mlx)\n",
    "}\n",
    "\n",
    "#Evaluating the models in turn\n",
    "results=[]\n",
    "names=[]\n",
    "scoring=\"neg_mean_squared_error\"\n",
    "y_t=y_train.values.reshape(-1,1)\n",
    "for name, model in models.items():\n",
    "  kfold=KFold(n_splits=10,shuffle=True)\n",
    "  cv_results=-cross_val_score(model,X_train.values,y_t.ravel(),cv=kfold,scoring=scoring)\n",
    "  results.append(cv_results)\n",
    "  names.append(name)\n",
    "  print(f\"{name} :{cv_results.mean():,.4f} ({cv_results.std():.4f})\")"
   ]
  },
  {
   "cell_type": "code",
   "execution_count": 27,
   "id": "af82de13",
   "metadata": {},
   "outputs": [
    {
     "data": {
      "image/png": "[encoded data removed]",
      "text/plain": [
       "<Figure size 640x480 with 1 Axes>"
      ]
     },
     "metadata": {},
     "output_type": "display_data"
    }
   ],
   "source": [
    "#Comparing the models\n",
    "\n",
    "import matplotlib.pyplot as plt\n",
    "import numpy as np\n",
    "\n",
    "plt.title(\"Comparison of the different Algorithms\")\n",
    "plt.boxplot(results)\n",
    "plt.xticks(np.arange(1,len(names)+1),names,rotation=\"vertical\")\n",
    "plt.show()"
   ]
  },
  {
   "cell_type": "code",
   "execution_count": 40,
   "id": "d94d3b33",
   "metadata": {},
   "outputs": [
    {
     "name": "stdout",
     "output_type": "stream",
     "text": [
      "Best : 0.763707 using the params : {'n_estimators': 19}\n",
      "0.724278 (0.005507) with {'n_estimators': 2}\n",
      "0.737421 (0.006492) with {'n_estimators': 3}\n",
      "0.746207 (0.005739) with {'n_estimators': 4}\n",
      "0.750090 (0.005266) with {'n_estimators': 5}\n",
      "0.752518 (0.005582) with {'n_estimators': 6}\n",
      "0.755714 (0.005569) with {'n_estimators': 7}\n",
      "0.757080 (0.004980) with {'n_estimators': 8}\n",
      "0.758659 (0.005244) with {'n_estimators': 9}\n",
      "0.759200 (0.005316) with {'n_estimators': 10}\n",
      "0.759843 (0.005705) with {'n_estimators': 11}\n",
      "0.760465 (0.005345) with {'n_estimators': 12}\n",
      "0.761619 (0.005583) with {'n_estimators': 13}\n",
      "0.761952 (0.005289) with {'n_estimators': 14}\n",
      "0.762293 (0.005361) with {'n_estimators': 15}\n",
      "0.762362 (0.005309) with {'n_estimators': 16}\n",
      "0.763005 (0.005123) with {'n_estimators': 17}\n",
      "0.763408 (0.005054) with {'n_estimators': 18}\n",
      "0.763707 (0.004863) with {'n_estimators': 19}\n"
     ]
    }
   ],
   "source": [
    "#Fine Tuning the best model\n",
    "\n",
    "import numpy as np\n",
    "\n",
    "n_estimators=np.arange(2,20)\n",
    "\n",
    "parameters=dict(n_estimators=n_estimators)\n",
    "\n",
    "model=RandomForestRegressor()\n",
    "\n",
    "kfold=KFold(n_splits=10,shuffle=True)\n",
    "\n",
    "grid_result=GridSearchCV(estimator=model,param_grid=parameters,cv=kfold)\n",
    "\n",
    "y_t=y_train.values.reshape(-1,1)\n",
    "\n",
    "grid_result.fit(X_train,y_t.ravel())\n",
    "\n",
    "#Summarize_results\n",
    "print(\"Best : %f using the params : %s\" % (grid_result.best_score_ , grid_result.best_params_))\n",
    "\n",
    "means=grid_result.cv_results_[\"mean_test_score\"]\n",
    "stds=grid_result.cv_results_[\"std_test_score\"]\n",
    "params=grid_result.cv_results_[\"params\"]\n",
    "\n",
    "for mean,stdev,param in zip(means,stds,params):\n",
    "  print(\"%f (%f) with %r\" % (mean,stdev,param))"
   ]
  },
  {
   "cell_type": "code",
   "execution_count": 41,
   "id": "41e0917d",
   "metadata": {},
   "outputs": [],
   "source": [
    "#Saving the scalers\n",
    "from pickle import dump\n",
    "dump(scaler_x,open(\"scaler_x.pkl\",\"wb\"))\n",
    "dump(scaler_y,open(\"scaler_y.pkl\",\"wb\"))\n"
   ]
  },
  {
   "cell_type": "code",
   "execution_count": 42,
   "id": "e06110b2",
   "metadata": {},
   "outputs": [],
   "source": [
    "#Saving the fine_tuned model\n",
    "dump(grid_result,open(\"best_model_sklearn.pkl\",\"wb\"))"
   ]
  },
  {
   "cell_type": "code",
   "execution_count": 43,
   "id": "2dc3cd46",
   "metadata": {},
   "outputs": [
    {
     "name": "stdout",
     "output_type": "stream",
     "text": [
      "MAE : 2716.809480 , RMSE : 4051.078379 , R2 : 0.770001\n"
     ]
    }
   ],
   "source": [
    "#Evaluating the model using the scalers correctly\n",
    "\n",
    "from sklearn.metrics import mean_absolute_error,mean_squared_error,r2_score\n",
    "\n",
    "X_test_scaled=pd.DataFrame(scaler_x.transform(X_test),columns=X_test.columns)\n",
    "\n",
    "y_pred=pd.DataFrame(scaler_y.inverse_transform(grid_result.predict(X_test_scaled).reshape(-1,1)),columns=y_test.columns)\n",
    "\n",
    "mae=mean_absolute_error(y_test,y_pred)\n",
    "\n",
    "rmse=np.sqrt(mean_squared_error(y_test,y_pred))\n",
    "\n",
    "r2=r2_score(y_test,y_pred)\n",
    "\n",
    "print(\"MAE : %f , RMSE : %f , R2 : %f\" % (mae,rmse,r2))"
   ]
  },
  {
   "cell_type": "code",
   "execution_count": 32,
   "id": "a08146cc",
   "metadata": {},
   "outputs": [
    {
     "data": {
      "text/plain": [
       "15492.65"
      ]
     },
     "execution_count": 32,
     "metadata": {},
     "output_type": "execute_result"
    }
   ],
   "source": [
    "y.mean()[0].round(2)"
   ]
  },
  {
   "cell_type": "code",
   "execution_count": 33,
   "id": "7da96d6e",
   "metadata": {},
   "outputs": [
    {
     "name": "stdout",
     "output_type": "stream",
     "text": [
      "Real = 9750 , Prediction = 13115 \n",
      "Real = 18750 , Prediction = 17154 \n",
      "Real = 6495 , Prediction = 5732 \n",
      "Real = 39000 , Prediction = 37603 \n",
      "Real = 9330 , Prediction = 8723 \n",
      "Real = 14981 , Prediction = 14570 \n",
      "Real = 14999 , Prediction = 11950 \n",
      "Real = 6900 , Prediction = 7614 \n",
      "Real = 13995 , Prediction = 13691 \n",
      "Real = 12999 , Prediction = 11525 \n",
      "Real = 7399 , Prediction = 7496 \n",
      "Real = 9995 , Prediction = 12765 \n",
      "Real = 20900 , Prediction = 18620 \n",
      "Real = 8995 , Prediction = 10519 \n",
      "Real = 7000 , Prediction = 25406 \n",
      "Real = 8995 , Prediction = 8425 \n",
      "Real = 11950 , Prediction = 14809 \n",
      "Real = 6599 , Prediction = 9316 \n",
      "Real = 10995 , Prediction = 16462 \n",
      "Real = 7990 , Prediction = 7990 \n"
     ]
    }
   ],
   "source": [
    "#Proving the results\n",
    "\n",
    "for i in range(0,20):\n",
    "    print(\"Real = {} , Prediction = {} \".format(y_test.values[i][0] , round(y_pred.values[i][0])) )\n",
    "    "
   ]
  },
  {
   "cell_type": "code",
   "execution_count": 34,
   "id": "bd618b27",
   "metadata": {},
   "outputs": [],
   "source": [
    "#Saving the columns in a dictionary in order to use them in production\n",
    "\n",
    "dictionary=dict(zip(X.columns,range(X.shape[1])))\n",
    "\n",
    "dump(dictionary,open(\"dictionary.pkl\",\"wb\"))"
   ]
  },
  {
   "cell_type": "code",
   "execution_count": 28,
   "id": "61bde673",
   "metadata": {},
   "outputs": [
    {
     "name": "stdout",
     "output_type": "stream",
     "text": [
      "100%|███████████████████████████████████████████████| 10/10 [06:30<00:00, 39.03s/trial, best loss: 0.24628982540801622]\n",
      "{'n_estimators': 17.0}\n"
     ]
    }
   ],
   "source": [
    "##HYPERPARAMETER TUNING WITH HYPEROPT\n",
    "\n",
    "from hyperopt import hp,fmin,tpe\n",
    "import numpy as np\n",
    "\n",
    "# Set up space dictionary with specified hyperparameters\n",
    "\n",
    "space = {\n",
    "    'n_estimators': hp.quniform('n_estimators', 10, 20, 1)\n",
    "}\n",
    "\n",
    "\n",
    "# Set up objective function\n",
    "def objective(params):\n",
    "    params = {\n",
    "        'n_estimators': int(params['n_estimators']) \n",
    "        \n",
    "    }\n",
    "    rfc_clf = RandomForestRegressor(**params) \n",
    "    best_score = -cross_val_score(rfc_clf, X_train, y_train, scoring='neg_mean_squared_error', cv=3, n_jobs=4).mean()\n",
    "    return best_score\n",
    "\n",
    "# Run the algorithm\n",
    "best = fmin(fn=objective,space=space, max_evals=10, rstate=np.random.default_rng(42), algo=tpe.suggest)\n",
    "print(best)"
   ]
  },
  {
   "cell_type": "code",
   "execution_count": 44,
   "id": "2128256c",
   "metadata": {},
   "outputs": [
    {
     "name": "stdout",
     "output_type": "stream",
     "text": [
      "MAE : 2722.040250 , RMSE : 4055.061505 , R2 : 0.769548\n"
     ]
    }
   ],
   "source": [
    "#Creating the model with the results gotten from the Hyperopt and evaluating it using different scalers\n",
    "\n",
    "modelo=RandomForestRegressor(n_estimators= 17)\n",
    "\n",
    "modelo.fit(X_train,y_train.values.ravel())\n",
    "\n",
    "from sklearn.metrics import mean_absolute_error,mean_squared_error,r2_score\n",
    "\n",
    "X_test_scaled=pd.DataFrame(scaler_x.transform(X_test),columns=X_test.columns)\n",
    "\n",
    "y_pred=pd.DataFrame(scaler_y.inverse_transform(modelo.predict(X_test_scaled).reshape(-1,1)),columns=y_test.columns)\n",
    "\n",
    "mae=mean_absolute_error(y_test.values.ravel(),y_pred.values.ravel())\n",
    "\n",
    "rmse=np.sqrt(mean_squared_error(y_test.values.ravel(),y_pred.values.ravel()))\n",
    "\n",
    "r2=r2_score(y_test.values.ravel(),y_pred.values.ravel())\n",
    "\n",
    "print(\"MAE : %f , RMSE : %f , R2 : %f\" % (mae,rmse,r2))"
   ]
  },
  {
   "cell_type": "code",
   "execution_count": 37,
   "id": "15f55b82",
   "metadata": {},
   "outputs": [
    {
     "data": {
      "application/vnd.jupyter.widget-view+json": {
       "model_id": "",
       "version_major": 2,
       "version_minor": 0
      },
      "text/plain": [
       "Optimization Progress:   0%|          | 0/12 [00:00<?, ?pipeline/s]"
      ]
     },
     "metadata": {},
     "output_type": "display_data"
    },
    {
     "name": "stdout",
     "output_type": "stream",
     "text": [
      "\n",
      "Generation 1 - Current best internal CV score: -0.35992635176821924\n",
      "\n",
      "Generation 2 - Current best internal CV score: -0.35992635176821924\n",
      "\n",
      "Generation 3 - Current best internal CV score: -0.35992635176821924\n",
      "\n",
      "Best pipeline: DecisionTreeRegressor(input_matrix, max_depth=8, min_samples_leaf=12, min_samples_split=7)\n",
      "==============================\n",
      "MSE 0.3600768746634208\n"
     ]
    }
   ],
   "source": [
    "#SOLVING THE PROBLEM WITH GENETIC ALGORITHMS\n",
    "\n",
    "X_train,X_test,y_train,y_test=train_test_split(X,y,test_size=0.3, random_state=42)\n",
    "\n",
    "scaler_x=StandardScaler()\n",
    "scaler_y=StandardScaler()\n",
    "scaler_x.fit(X_train)\n",
    "scaler_y.fit(y_train)\n",
    "\n",
    "X_train=pd.DataFrame(scaler_x.transform(X_train),columns=X_train.columns)\n",
    "y_train=pd.DataFrame(scaler_y.transform(y_train),columns=y_train.columns)\n",
    "\n",
    "X_test_scaled=pd.DataFrame(scaler_x.transform(X_test),columns=X_test.columns)\n",
    "y_test_scaled=pd.DataFrame(scaler_y.transform(y_test),columns=y_test.columns)\n",
    "\n",
    "\n",
    "from tpot import TPOTRegressor\n",
    "# Assign the values outlined to the inputs\n",
    "number_generations = 3\n",
    "population_size = 3\n",
    "offspring_size = 3\n",
    "scoring_function = 'neg_mean_squared_error'\n",
    "\n",
    "# Create the tpot classifier\n",
    "tpot_clf = TPOTRegressor(generations=number_generations, population_size=population_size,\n",
    "                          offspring_size=offspring_size, scoring=scoring_function,\n",
    "                          verbosity=2, random_state=2, cv=2)\n",
    "\n",
    "# Fit the classifier to the training data\n",
    "tpot_clf.fit(X_train.values , y_train.values.ravel())\n",
    "\n",
    "print(\"=\"*30)\n",
    "\n",
    "# Score on the test set\n",
    "\n",
    "X_test=pd.DataFrame(scaler_x.transform(X_test),columns=X_test.columns)\n",
    "y_test=pd.DataFrame(scaler_y.transform(y_test),columns=y_test.columns)\n",
    "\n",
    "print(\"MSE\",-tpot_clf.score(X_test.values , y_test.values.ravel()))"
   ]
  },
  {
   "cell_type": "code",
   "execution_count": 262,
   "id": "455986ea",
   "metadata": {},
   "outputs": [],
   "source": [
    "#SOLVING THE PROBLEM WITH ARTIFICIAL NEURAL NETWORKS"
   ]
  },
  {
   "cell_type": "code",
   "execution_count": 24,
   "id": "fe5fecc8",
   "metadata": {},
   "outputs": [],
   "source": [
    "#Importing the libraries\n",
    "from tensorflow.keras.models import Sequential\n",
    "from tensorflow.keras.layers import Dense\n",
    "from tensorflow.keras.callbacks import EarlyStopping"
   ]
  },
  {
   "cell_type": "code",
   "execution_count": 25,
   "id": "bf8b3d3f",
   "metadata": {},
   "outputs": [],
   "source": [
    "early=EarlyStopping(monitor=\"val_loss\", patience=20)"
   ]
  },
  {
   "cell_type": "code",
   "execution_count": 46,
   "id": "ac4f6d14",
   "metadata": {},
   "outputs": [
    {
     "name": "stdout",
     "output_type": "stream",
     "text": [
      "Epoch 1/200\n",
      "4417/4417 [==============================] - 23s 5ms/step - loss: 0.3283 - val_loss: 0.2978\n",
      "Epoch 2/200\n",
      "4417/4417 [==============================] - 20s 5ms/step - loss: 0.2806 - val_loss: 0.2710\n",
      "Epoch 3/200\n",
      "4417/4417 [==============================] - 20s 4ms/step - loss: 0.2692 - val_loss: 0.2693\n",
      "Epoch 4/200\n",
      "4417/4417 [==============================] - 19s 4ms/step - loss: 0.2619 - val_loss: 0.2630\n",
      "Epoch 5/200\n",
      "4417/4417 [==============================] - 19s 4ms/step - loss: 0.2556 - val_loss: 0.2639\n",
      "Epoch 6/200\n",
      "4417/4417 [==============================] - 20s 4ms/step - loss: 0.2521 - val_loss: 0.2590\n",
      "Epoch 7/200\n",
      "4417/4417 [==============================] - 19s 4ms/step - loss: 0.2469 - val_loss: 0.2611\n",
      "Epoch 8/200\n",
      "4417/4417 [==============================] - 19s 4ms/step - loss: 0.2426 - val_loss: 0.2546\n",
      "Epoch 9/200\n",
      "4417/4417 [==============================] - 19s 4ms/step - loss: 0.2391 - val_loss: 0.2539\n",
      "Epoch 10/200\n",
      "4417/4417 [==============================] - 19s 4ms/step - loss: 0.2353 - val_loss: 0.2524\n",
      "Epoch 11/200\n",
      "4417/4417 [==============================] - 19s 4ms/step - loss: 0.2329 - val_loss: 0.2519\n",
      "Epoch 12/200\n",
      "4417/4417 [==============================] - 19s 4ms/step - loss: 0.2307 - val_loss: 0.2551\n",
      "Epoch 13/200\n",
      "4417/4417 [==============================] - 19s 4ms/step - loss: 0.2279 - val_loss: 0.2578\n",
      "Epoch 14/200\n",
      "4417/4417 [==============================] - 19s 4ms/step - loss: 0.2256 - val_loss: 0.2531\n",
      "Epoch 15/200\n",
      "4417/4417 [==============================] - 19s 4ms/step - loss: 0.2233 - val_loss: 0.2517\n",
      "Epoch 16/200\n",
      "4417/4417 [==============================] - 19s 4ms/step - loss: 0.2212 - val_loss: 0.2515\n",
      "Epoch 17/200\n",
      "4417/4417 [==============================] - 19s 4ms/step - loss: 0.2195 - val_loss: 0.2488\n",
      "Epoch 18/200\n",
      "4417/4417 [==============================] - 19s 4ms/step - loss: 0.2171 - val_loss: 0.2576\n",
      "Epoch 19/200\n",
      "4417/4417 [==============================] - 19s 4ms/step - loss: 0.2159 - val_loss: 0.2515\n",
      "Epoch 20/200\n",
      "4417/4417 [==============================] - 19s 4ms/step - loss: 0.2151 - val_loss: 0.2528\n",
      "Epoch 21/200\n",
      "4417/4417 [==============================] - 19s 4ms/step - loss: 0.2130 - val_loss: 0.2500\n",
      "Epoch 22/200\n",
      "4417/4417 [==============================] - 19s 4ms/step - loss: 0.2110 - val_loss: 0.2508\n",
      "Epoch 23/200\n",
      "4417/4417 [==============================] - 19s 4ms/step - loss: 0.2097 - val_loss: 0.2485\n",
      "Epoch 24/200\n",
      "4417/4417 [==============================] - 19s 4ms/step - loss: 0.2084 - val_loss: 0.2492\n",
      "Epoch 25/200\n",
      "4417/4417 [==============================] - 19s 4ms/step - loss: 0.2086 - val_loss: 0.2477\n",
      "Epoch 26/200\n",
      "4417/4417 [==============================] - 19s 4ms/step - loss: 0.2054 - val_loss: 0.2538\n",
      "Epoch 27/200\n",
      "4417/4417 [==============================] - 19s 4ms/step - loss: 0.2046 - val_loss: 0.2490\n",
      "Epoch 28/200\n",
      "4417/4417 [==============================] - 19s 4ms/step - loss: 0.2032 - val_loss: 0.2496\n",
      "Epoch 29/200\n",
      "4417/4417 [==============================] - 19s 4ms/step - loss: 0.2026 - val_loss: 0.2478\n",
      "Epoch 30/200\n",
      "4417/4417 [==============================] - 19s 4ms/step - loss: 0.2021 - val_loss: 0.2542\n",
      "Epoch 31/200\n",
      "4417/4417 [==============================] - 19s 4ms/step - loss: 0.2006 - val_loss: 0.2496\n",
      "Epoch 32/200\n",
      "4417/4417 [==============================] - 19s 4ms/step - loss: 0.1996 - val_loss: 0.2491\n",
      "Epoch 33/200\n",
      "4417/4417 [==============================] - 19s 4ms/step - loss: 0.1993 - val_loss: 0.2488\n",
      "Epoch 34/200\n",
      "4417/4417 [==============================] - 19s 4ms/step - loss: 0.1977 - val_loss: 0.2465\n",
      "Epoch 35/200\n",
      "4417/4417 [==============================] - 19s 4ms/step - loss: 0.1971 - val_loss: 0.2486\n",
      "Epoch 36/200\n",
      "4417/4417 [==============================] - 19s 4ms/step - loss: 0.1961 - val_loss: 0.2519\n",
      "Epoch 37/200\n",
      "4417/4417 [==============================] - 19s 4ms/step - loss: 0.1959 - val_loss: 0.2496\n",
      "Epoch 38/200\n",
      "4417/4417 [==============================] - 19s 4ms/step - loss: 0.1945 - val_loss: 0.2504\n",
      "Epoch 39/200\n",
      "4417/4417 [==============================] - 19s 4ms/step - loss: 0.1943 - val_loss: 0.2506\n",
      "Epoch 40/200\n",
      "4417/4417 [==============================] - 19s 4ms/step - loss: 0.1938 - val_loss: 0.2492\n",
      "Epoch 41/200\n",
      "4417/4417 [==============================] - 19s 4ms/step - loss: 0.1926 - val_loss: 0.2524\n",
      "Epoch 42/200\n",
      "4417/4417 [==============================] - 19s 4ms/step - loss: 0.1919 - val_loss: 0.2530\n",
      "Epoch 43/200\n",
      "4417/4417 [==============================] - 19s 4ms/step - loss: 0.1913 - val_loss: 0.2498\n",
      "Epoch 44/200\n",
      "4417/4417 [==============================] - 19s 4ms/step - loss: 0.1906 - val_loss: 0.2512\n",
      "Epoch 45/200\n",
      "4417/4417 [==============================] - 19s 4ms/step - loss: 0.1901 - val_loss: 0.2503\n",
      "Epoch 46/200\n",
      "4417/4417 [==============================] - 19s 4ms/step - loss: 0.1895 - val_loss: 0.2535\n",
      "Epoch 47/200\n",
      "4417/4417 [==============================] - 19s 4ms/step - loss: 0.1890 - val_loss: 0.2498\n",
      "Epoch 48/200\n",
      "4417/4417 [==============================] - 20s 4ms/step - loss: 0.1879 - val_loss: 0.2496\n",
      "Epoch 49/200\n",
      "4417/4417 [==============================] - 19s 4ms/step - loss: 0.1872 - val_loss: 0.2499\n",
      "Epoch 50/200\n",
      "4417/4417 [==============================] - 19s 4ms/step - loss: 0.1870 - val_loss: 0.2526\n",
      "Epoch 51/200\n",
      "4417/4417 [==============================] - 20s 4ms/step - loss: 0.1858 - val_loss: 0.2508\n",
      "Epoch 52/200\n",
      "4417/4417 [==============================] - 19s 4ms/step - loss: 0.1855 - val_loss: 0.2510\n",
      "Epoch 53/200\n",
      "4417/4417 [==============================] - 19s 4ms/step - loss: 0.1853 - val_loss: 0.2514\n",
      "Epoch 54/200\n",
      "4417/4417 [==============================] - 19s 4ms/step - loss: 0.1846 - val_loss: 0.2523\n"
     ]
    }
   ],
   "source": [
    "#Creating the model\n",
    "model=Sequential()\n",
    "model.add(Dense(256,input_dim=X.shape[1],activation=\"relu\"))\n",
    "model.add(Dense(128,activation=\"relu\"))\n",
    "model.add(Dense(64,activation=\"relu\"))\n",
    "model.add(Dense(32,activation=\"relu\"))\n",
    "model.add(Dense(16,activation=\"relu\"))\n",
    "model.add(Dense(8,activation=\"relu\"))\n",
    "model.add(Dense(1,activation=\"linear\"))\n",
    "\n",
    "#Compiling the model\n",
    "model.compile(optimizer=\"adam\", loss=\"mse\")\n",
    "\n",
    "#Fitting the model\n",
    "history=model.fit(X_train,y_train,epochs=200,batch_size=32,validation_split=0.25, callbacks=[early])"
   ]
  },
  {
   "cell_type": "code",
   "execution_count": 47,
   "id": "938cd12a",
   "metadata": {},
   "outputs": [
    {
     "data": {
      "text/plain": [
       "0.25215739011764526"
      ]
     },
     "execution_count": 47,
     "metadata": {},
     "output_type": "execute_result"
    }
   ],
   "source": [
    "#Evaluating the tuned model using the test data\n",
    "\n",
    "X_train,X_test,y_train,y_test=train_test_split(X,y,test_size=0.3, random_state=42)\n",
    "\n",
    "scaler_x=StandardScaler()\n",
    "scaler_y=StandardScaler()\n",
    "scaler_x.fit(X_train)\n",
    "scaler_y.fit(y_train)\n",
    "\n",
    "X_train=pd.DataFrame(scaler_x.transform(X_train),columns=X_train.columns)\n",
    "y_train=pd.DataFrame(scaler_y.transform(y_train),columns=y_train.columns)\n",
    "\n",
    "X_test_scaled=pd.DataFrame(scaler_x.transform(X_test),columns=X_test.columns)\n",
    "y_test_scaled=pd.DataFrame(scaler_y.transform(y_test),columns=y_test.columns)\n",
    "\n",
    "model.evaluate(X_test_scaled,y_test_scaled,verbose=0)"
   ]
  },
  {
   "cell_type": "code",
   "execution_count": 48,
   "id": "70164938",
   "metadata": {},
   "outputs": [
    {
     "name": "stdout",
     "output_type": "stream",
     "text": [
      "MAE : 2952.354318 , RMSE : 4247.363015 , R2 : 0.747172\n"
     ]
    }
   ],
   "source": [
    "#Evaluating the MAE,RMSE and R2 of the neural network\n",
    "\n",
    "from sklearn.metrics import mean_absolute_error,mean_squared_error,r2_score\n",
    "\n",
    "y_pred=pd.DataFrame(scaler_y.inverse_transform(model.predict(X_test_scaled,verbose=0).reshape(-1,1)),columns=y_test.columns)\n",
    "\n",
    "mae=mean_absolute_error(y_test,y_pred)\n",
    "\n",
    "rmse=np.sqrt(mean_squared_error(y_test,y_pred))\n",
    "\n",
    "r2=r2_score(y_test,y_pred)\n",
    "\n",
    "print(\"MAE : %f , RMSE : %f , R2 : %f\" % (mae,rmse,r2))"
   ]
  },
  {
   "cell_type": "code",
   "execution_count": 26,
   "id": "d013a4df",
   "metadata": {},
   "outputs": [
    {
     "name": "stdout",
     "output_type": "stream",
     "text": [
      "MSE:  0.25369985527087285\n"
     ]
    }
   ],
   "source": [
    "##Using CV Score\n",
    "from tensorflow.keras.wrappers.scikit_learn import KerasRegressor\n",
    "from sklearn.preprocessing import StandardScaler\n",
    "from sklearn.model_selection import cross_val_score\n",
    "import warnings\n",
    "warnings.filterwarnings(\"ignore\", category=DeprecationWarning)\n",
    "\n",
    "def model_function():\n",
    "    model=Sequential()\n",
    "    model.add(Dense(256,activation=\"relu\",input_dim=X_train.shape[1]))\n",
    "    model.add(Dense(128,activation=\"relu\"))\n",
    "    model.add(Dense(32,activation=\"relu\"))\n",
    "    model.add(Dense(1))\n",
    "    model.compile(optimizer=\"adam\",loss=\"mse\")\n",
    "    return model\n",
    "\n",
    "X_train,X_test,y_train,y_test=train_test_split(X,y,test_size=0.3, random_state=42)\n",
    "\n",
    "scaler_x=StandardScaler()\n",
    "scaler_y=StandardScaler()\n",
    "scaler_x.fit(X_train)\n",
    "scaler_y.fit(y_train)\n",
    "\n",
    "X_train=pd.DataFrame(scaler_x.transform(X_train),columns=X_train.columns)\n",
    "y_train=pd.DataFrame(scaler_y.transform(y_train),columns=y_train.columns)\n",
    "\n",
    "modelo=KerasRegressor(build_fn=model_function,epochs=20,batch_size=16,verbose=0)\n",
    "\n",
    "cv=-cross_val_score(modelo,X_train,y_train,cv=5,scoring=\"neg_mean_squared_error\")\n",
    "\n",
    "print(\"MSE: \",cv.mean())"
   ]
  },
  {
   "cell_type": "code",
   "execution_count": 27,
   "id": "eacd567e",
   "metadata": {},
   "outputs": [
    {
     "name": "stderr",
     "output_type": "stream",
     "text": [
      "C:\\Users\\DAVID\\anaconda3\\envs\\environment\\lib\\site-packages\\sklearn\\model_selection\\_search.py:953: UserWarning: One or more of the test scores are non-finite: [-0.2655198  -0.27187742 -0.30187576 -0.25887215 -0.28876412         nan\n",
      " -0.28094713 -0.31466138 -0.27019489 -0.26079679]\n",
      "  warnings.warn(\n"
     ]
    },
    {
     "name": "stdout",
     "output_type": "stream",
     "text": [
      "Best Score 0.2588721513748169\n",
      "==============================\n",
      "Best Parameters {'optimizer': 'rmsprop', 'epochs': 10, 'batch_size': 64, 'activation': 'relu'}\n"
     ]
    }
   ],
   "source": [
    "##Tuning hyperparameters\n",
    "\n",
    "from tensorflow.keras.wrappers.scikit_learn import KerasRegressor\n",
    "from sklearn.model_selection import cross_val_score,RandomizedSearchCV\n",
    "import warnings\n",
    "warnings.filterwarnings(\"ignore\",category=DeprecationWarning)\n",
    "\n",
    "def model_function(optimizer=\"adam\",activation=\"relu\"):\n",
    "    model=Sequential()\n",
    "    model.add(Dense(256,activation=activation,input_dim=X_train.shape[1]))\n",
    "    model.add(Dense(128,activation=activation))\n",
    "    model.add(Dense(64,activation=activation))\n",
    "    model.add(Dense(1))\n",
    "    model.compile(optimizer=optimizer,loss=\"mse\",metrics=\"mse\")\n",
    "    return model\n",
    "\n",
    "modelo=KerasRegressor(build_fn=model_function,epochs=3,batch_size=16,verbose=0)\n",
    "\n",
    "parameters={\n",
    "    \"optimizer\":[\"adam\",\"sgd\",\"rmsprop\"],\n",
    "    \"activation\":[\"relu\",\"sigmoid\"],\n",
    "    \"epochs\":[10,20,40,80],\n",
    "    \"batch_size\":[16,32,64]\n",
    "}\n",
    "\n",
    "random=RandomizedSearchCV(modelo,param_distributions=parameters,cv=3)\n",
    "\n",
    "results=random.fit(X_train,y_train)\n",
    "\n",
    "print(\"Best Score\", -results.best_score_)\n",
    "print(\"=\"*30)\n",
    "print(\"Best Parameters\" , results.best_params_)"
   ]
  },
  {
   "cell_type": "code",
   "execution_count": 28,
   "id": "af291c03",
   "metadata": {},
   "outputs": [
    {
     "name": "stdout",
     "output_type": "stream",
     "text": [
      "Best Score 0.26896841327349347\n",
      "==============================\n",
      "Best Parameters {'nn': 128, 'dense_layers_extra': 3}\n"
     ]
    }
   ],
   "source": [
    "##Tuning layers and neurons\n",
    "\n",
    "from tensorflow.keras.wrappers.scikit_learn import KerasRegressor\n",
    "from sklearn.model_selection import cross_val_score,RandomizedSearchCV\n",
    "\n",
    "def model_function_2(dense_layers_extra=2,nn=100):\n",
    "    model=Sequential()\n",
    "    model.add(Dense(units=nn,activation=\"relu\",input_dim=X_train.shape[1]))\n",
    "    \n",
    "    for i in range(1,dense_layers_extra+1):\n",
    "        model.add(Dense(units=nn, activation=\"relu\"))\n",
    "        \n",
    "    model.add(Dense(1))\n",
    "    \n",
    "    model.compile(optimizer=\"adam\",loss=\"mse\",metrics=\"mse\")\n",
    "    \n",
    "    return model\n",
    "\n",
    "modelo=KerasRegressor(build_fn=model_function_2,epochs=3,batch_size=16,verbose=0)\n",
    "\n",
    "parameters={\n",
    "    \"dense_layers_extra\":[1,2,3,4],\n",
    "    \n",
    "    \"nn\":[32,64,128,256]\n",
    "}\n",
    "\n",
    "random=RandomizedSearchCV(modelo,param_distributions=parameters,cv=3)\n",
    "\n",
    "results=random.fit(X_train,y_train)\n",
    "\n",
    "print(\"Best Score\", -results.best_score_)\n",
    "print(\"=\"*30)\n",
    "print(\"Best Parameters\" , results.best_params_)"
   ]
  },
  {
   "cell_type": "code",
   "execution_count": 29,
   "id": "ad7e6564",
   "metadata": {},
   "outputs": [
    {
     "name": "stdout",
     "output_type": "stream",
     "text": [
      "Epoch 1/10\n",
      "2356/2356 [==============================] - 12s 4ms/step - loss: 0.3346 - val_loss: 0.2852\n",
      "Epoch 2/10\n",
      "2356/2356 [==============================] - 10s 4ms/step - loss: 0.2802 - val_loss: 0.2986\n",
      "Epoch 3/10\n",
      "2356/2356 [==============================] - 10s 4ms/step - loss: 0.2692 - val_loss: 0.2709\n",
      "Epoch 4/10\n",
      "2356/2356 [==============================] - 10s 4ms/step - loss: 0.2611 - val_loss: 0.2704\n",
      "Epoch 5/10\n",
      "2356/2356 [==============================] - 9s 4ms/step - loss: 0.2577 - val_loss: 0.2654\n",
      "Epoch 6/10\n",
      "2356/2356 [==============================] - 11s 4ms/step - loss: 0.2523 - val_loss: 0.2654\n",
      "Epoch 7/10\n",
      "2356/2356 [==============================] - 10s 4ms/step - loss: 0.2488 - val_loss: 0.2588\n",
      "Epoch 8/10\n",
      "2356/2356 [==============================] - 9s 4ms/step - loss: 0.2455 - val_loss: 0.2620\n",
      "Epoch 9/10\n",
      "2356/2356 [==============================] - 10s 4ms/step - loss: 0.2434 - val_loss: 0.2598\n",
      "Epoch 10/10\n",
      "2356/2356 [==============================] - 10s 4ms/step - loss: 0.2406 - val_loss: 0.2601\n"
     ]
    }
   ],
   "source": [
    "#Creating the model with the best parameters\n",
    "model=Sequential()\n",
    "model.add(Dense(256,activation=\"relu\",input_dim=X_train.shape[1]))\n",
    "model.add(Dense(128,activation=\"relu\"))\n",
    "model.add(Dense(32,activation=\"relu\"))\n",
    "model.add(Dense(1))\n",
    "model.compile(optimizer=\"rmsprop\",loss=\"mse\")\n",
    "history=model.fit(X_train,y_train,epochs=10,batch_size=64,validation_split=0.2)"
   ]
  },
  {
   "cell_type": "code",
   "execution_count": 36,
   "id": "d780eeb4",
   "metadata": {},
   "outputs": [
    {
     "name": "stdout",
     "output_type": "stream",
     "text": [
      "MAE : 3098.107870 , RMSE : 4289.587745 , R2 : 0.742121\n"
     ]
    }
   ],
   "source": [
    "#Evaluating the tuned model\n",
    "\n",
    "from sklearn.metrics import mean_absolute_error,mean_squared_error,r2_score\n",
    "import numpy as np\n",
    "\n",
    "X_train,X_test,y_train,y_test=train_test_split(X,y,test_size=0.3, random_state=42)\n",
    "\n",
    "scaler_x=StandardScaler()\n",
    "scaler_y=StandardScaler()\n",
    "scaler_x.fit(X_train)\n",
    "scaler_y.fit(y_train)\n",
    "\n",
    "X_train=pd.DataFrame(scaler_x.transform(X_train),columns=X_train.columns)\n",
    "y_train=pd.DataFrame(scaler_y.transform(y_train),columns=y_train.columns)\n",
    "\n",
    "X_test_scaled=pd.DataFrame(scaler_x.transform(X_test),columns=X_test.columns)\n",
    "y_test_scaled=pd.DataFrame(scaler_y.transform(y_test),columns=y_test.columns)\n",
    "\n",
    "\n",
    "y_pred=pd.DataFrame(scaler_y.inverse_transform(model.predict(X_test_scaled,verbose=0).reshape(-1,1)),columns=y_test.columns)\n",
    "\n",
    "mae=mean_absolute_error(y_test,y_pred)\n",
    "\n",
    "rmse=np.sqrt(mean_squared_error(y_test,y_pred))\n",
    "\n",
    "r2=r2_score(y_test,y_pred)\n",
    "\n",
    "print(\"MAE : %f , RMSE : %f , R2 : %f\" % (mae,rmse,r2))"
   ]
  },
  {
   "cell_type": "code",
   "execution_count": 37,
   "id": "3a186204",
   "metadata": {},
   "outputs": [
    {
     "data": {
      "image/png": "[encoded data removed]",
      "text/plain": [
       "<Figure size 600x400 with 1 Axes>"
      ]
     },
     "metadata": {},
     "output_type": "display_data"
    }
   ],
   "source": [
    "import matplotlib.pyplot as plt\n",
    "%matplotlib inline\n",
    "plt.figure(figsize=(6,4))\n",
    "plt.plot(history.history[\"loss\"]);\n",
    "plt.plot(history.history[\"val_loss\"])\n",
    "plt.title(\"Loss of model with set of training and validation\")\n",
    "plt.xlabel(\"Epochs\");\n",
    "plt.ylabel(\"MSE\");\n",
    "plt.legend([\"Training\",\"Validation\"],loc=\"upper right\");"
   ]
  },
  {
   "cell_type": "code",
   "execution_count": 38,
   "id": "66676be5",
   "metadata": {},
   "outputs": [
    {
     "name": "stdout",
     "output_type": "stream",
     "text": [
      "Real = 9750 , Prediction = 11392 \n",
      "Real = 18750 , Prediction = 17084 \n",
      "Real = 6495 , Prediction = 7729 \n",
      "Real = 39000 , Prediction = 31995 \n",
      "Real = 9330 , Prediction = 11187 \n",
      "Real = 14981 , Prediction = 16250 \n",
      "Real = 14999 , Prediction = 10497 \n",
      "Real = 6900 , Prediction = 8680 \n",
      "Real = 13995 , Prediction = 11184 \n",
      "Real = 12999 , Prediction = 10657 \n",
      "Real = 7399 , Prediction = 9490 \n",
      "Real = 9995 , Prediction = 13604 \n",
      "Real = 20900 , Prediction = 16036 \n",
      "Real = 8995 , Prediction = 10147 \n",
      "Real = 7000 , Prediction = 15225 \n",
      "Real = 8995 , Prediction = 9379 \n",
      "Real = 11950 , Prediction = 15101 \n",
      "Real = 6599 , Prediction = 8653 \n",
      "Real = 10995 , Prediction = 16309 \n",
      "Real = 7990 , Prediction = 9211 \n"
     ]
    }
   ],
   "source": [
    "#Proving the results\n",
    "\n",
    "for i in range(0,20):\n",
    "    print(\"Real = {} , Prediction = {} \".format(y_test.values[i][0] , round(y_pred.values[i][0])) )"
   ]
  }
 ],
 "metadata": {
  "kernelspec": {
   "display_name": "Python 3 (ipykernel)",
   "language": "python",
   "name": "python3"
  },
  "language_info": {
   "codemirror_mode": {
    "name": "ipython",
    "version": 3
   },
   "file_extension": ".py",
   "mimetype": "text/x-python",
   "name": "python",
   "nbconvert_exporter": "python",
   "pygments_lexer": "ipython3",
   "version": "3.9.13"
  }
 },
 "nbformat": 4,
 "nbformat_minor": 5
}
